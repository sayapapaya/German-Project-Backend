{
 "cells": [
  {
   "cell_type": "code",
   "execution_count": 1,
   "metadata": {
    "collapsed": true
   },
   "outputs": [],
   "source": [
    "import copy\n",
    "import os\n",
    "import numpy as np\n",
    "\n",
    "import user_model\n",
    "import recommend_article\n",
    "\n"
   ]
  },
  {
   "cell_type": "code",
   "execution_count": 11,
   "metadata": {
    "collapsed": false
   },
   "outputs": [],
   "source": [
    "article_directory = \"goethe_articles\"\n",
    "article_names = [name for name in os.listdir(article_directory) if \\\n",
    "        name.endswith(\".txt\")]\n",
    "\n",
    "article_dict = recommend_article.create_feature_vector_dict(\n",
    "    article_directory, article_names)"
   ]
  },
  {
   "cell_type": "code",
   "execution_count": 3,
   "metadata": {
    "collapsed": true
   },
   "outputs": [],
   "source": [
    "article_list = np.array([x for x in article_dict.values()])\n",
    "\n",
    "# # initialize user at centroid\n",
    "user = user_model.get_centroid(article_list)\n"
   ]
  },
  {
   "cell_type": "code",
   "execution_count": 4,
   "metadata": {
    "collapsed": false
   },
   "outputs": [
    {
     "name": "stdout",
     "output_type": "stream",
     "text": [
      "[  2.96868421e+02   3.46052632e+01   1.60765348e+01   5.54009050e+00\n",
      "   2.95892359e-01   1.30377984e-01   1.66483119e-01]\n"
     ]
    }
   ],
   "source": [
    "print user"
   ]
  },
  {
   "cell_type": "code",
   "execution_count": 12,
   "metadata": {
    "collapsed": false
   },
   "outputs": [
    {
     "name": "stdout",
     "output_type": "stream",
     "text": [
      "[  5.39255000e+02   5.44550000e+01   2.00048621e+01   5.88781495e+00\n",
      "   2.95892359e-01   1.63605700e-01   1.66483119e-01]\n"
     ]
    }
   ],
   "source": [
    "# update user\n",
    "\n",
    "user_ratings = {\n",
    "    \"A1_01.txt\" : 1,\n",
    "    \"A1_05.txt\" : 1,\n",
    "    \"B1_02.txt\" : 1,\n",
    "    \"C1_01.txt\" : 2,\n",
    "    \"C2_07.txt\" : 3,\n",
    "    \"C2_08.txt\" : 3,\n",
    "}\n",
    "\n",
    "user_rated_article_names = np.array(user_ratings.keys())\n",
    "user_rated_article_feature_vectors = np.array([article_dict[article_name] for \\\n",
    "                                               article_name in user_ratings.keys()])\n",
    "\n",
    "scores = np.array([user_ratings[article_name] for article_name in user_rated_article_names])\n",
    "\n",
    "user = user_model.update_user_given_many_articles(user, \n",
    "                                                  user_rated_article_feature_vectors,\n",
    "                                                 scores)\n",
    "\n",
    "print user\n"
   ]
  },
  {
   "cell_type": "code",
   "execution_count": 8,
   "metadata": {
    "collapsed": false
   },
   "outputs": [
    {
     "name": "stdout",
     "output_type": "stream",
     "text": [
      "['A1_02.txt', 'A1_03.txt', 'A1_04.txt', 'A2_01.txt', 'A2_02.txt', 'A2_03.txt', 'A2_04.txt', 'A2_05.txt', 'B1_01.txt', 'B1_03.txt', 'B1_04.txt', 'B1_05.txt', 'B1_06.txt', 'B2_01.txt', 'B2_02.txt', 'B2_03.txt', 'B2_04.txt', 'C1_02.txt', 'C1_03.txt', 'C1_04.txt', 'C1_05.txt', 'C1_06.txt', 'C1_07.txt', 'C1_08.txt', 'C1_09.txt', 'C1_10.txt', 'C2_01.txt', 'C2_02.txt', 'C2_03.txt', 'C2_04.txt', 'C2_05.txt', 'C2_06.txt']\n"
     ]
    }
   ],
   "source": [
    "new_article_dict = {k:v for k,v in article_dict.items() if k not in user_ratings.keys()}\n",
    "print sorted(new_article_dict)"
   ]
  },
  {
   "cell_type": "code",
   "execution_count": 10,
   "metadata": {
    "collapsed": false
   },
   "outputs": [
    {
     "name": "stdout",
     "output_type": "stream",
     "text": [
      "[['B2_02.txt' 'B2_01.txt']]\n"
     ]
    }
   ],
   "source": [
    "article_names = np.array(new_article_dict.keys())\n",
    "articles = np.array([new_article_dict[article_name] for article_name in article_names])\n",
    "k = 2\n",
    "recommendation = recommend_article.recommend_k_articles(article_names, articles, user, k)\n",
    "print recommendation\n"
   ]
  },
  {
   "cell_type": "code",
   "execution_count": null,
   "metadata": {
    "collapsed": true
   },
   "outputs": [],
   "source": []
  }
 ],
 "metadata": {
  "kernelspec": {
   "display_name": "Python 2",
   "language": "python",
   "name": "python2"
  },
  "language_info": {
   "codemirror_mode": {
    "name": "ipython",
    "version": 2
   },
   "file_extension": ".py",
   "mimetype": "text/x-python",
   "name": "python",
   "nbconvert_exporter": "python",
   "pygments_lexer": "ipython2",
   "version": "2.7.6"
  }
 },
 "nbformat": 4,
 "nbformat_minor": 0
}
