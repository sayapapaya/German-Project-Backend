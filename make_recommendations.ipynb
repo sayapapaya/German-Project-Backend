{
 "cells": [
  {
   "cell_type": "code",
   "execution_count": 1,
   "metadata": {
    "collapsed": true
   },
   "outputs": [],
   "source": [
    "import copy\n",
    "import os\n",
    "import numpy as np\n",
    "\n",
    "import user_model\n",
    "import recommend_article\n",
    "\n"
   ]
  },
  {
   "cell_type": "code",
   "execution_count": 2,
   "metadata": {
    "collapsed": false
   },
   "outputs": [],
   "source": [
    "article_directory = \"goethe_articles\"\n",
    "article_names = [name for name in os.listdir(article_directory) if \\\n",
    "        name.endswith(\".txt\")]\n",
    "\n",
    "article_dict = recommend_article.create_feature_vector_dict(\n",
    "    article_directory, article_names)"
   ]
  },
  {
   "cell_type": "code",
   "execution_count": 3,
   "metadata": {
    "collapsed": false
   },
   "outputs": [
    {
     "name": "stdout",
     "output_type": "stream",
     "text": [
      "[  2.96868421e+02   3.46052632e+01   1.60765348e+01   5.54009050e+00\n",
      "   2.95892359e-01   1.30377984e-01   1.66483119e-01]\n"
     ]
    }
   ],
   "source": [
    "# initialize user at centroid\n",
    "article_list = np.array([x for x in article_dict.values()])\n",
    "initial_user = user_model.get_centroid(article_list)\n",
    "print initial_user"
   ]
  },
  {
   "cell_type": "code",
   "execution_count": 7,
   "metadata": {
    "collapsed": true
   },
   "outputs": [],
   "source": [
    "def recommend_k_articles(article_dict, user_ratings, user_rep_before_update, k):\n",
    "    updated_user = user_model.update_user_given_many_articles(user_ratings, article_dict, user_rep_before_update)\n",
    "    unread_articles_dict = {k:v for k,v in article_dict.items() if k not in user_ratings.keys()}\n",
    "    unread_article_names = np.array(unread_articles_dict.keys())\n",
    "    unread_articles = np.array([unread_articles_dict[article_name] for article_name in unread_article_names])\n",
    "\n",
    "    recommendation = recommend_article.find_k_nearest_articles(unread_article_names, \n",
    "                                                               unread_articles, \n",
    "                                                               updated_user, \n",
    "                                                               k)\n",
    "    return recommendation\n",
    "  "
   ]
  },
  {
   "cell_type": "code",
   "execution_count": 8,
   "metadata": {
    "collapsed": false
   },
   "outputs": [],
   "source": [
    "# update user\n",
    "user_ratings_1 = {\n",
    "    \"A1_01.txt\" : 1,\n",
    "    \"A1_05.txt\" : 1,\n",
    "    \"B1_02.txt\" : 1,\n",
    "    \"C1_01.txt\" : 1,\n",
    "    \"C2_07.txt\" : 1,\n",
    "    \"C2_08.txt\" : 1,\n",
    "}\n",
    "\n",
    "user_ratings_2 = {\n",
    "    \"A1_01.txt\" : 3,\n",
    "    \"A1_05.txt\" : 3,\n",
    "    \"B1_02.txt\" : 3,\n",
    "    \"C1_01.txt\" : 3,\n",
    "    \"C2_07.txt\" : 3,\n",
    "    \"C2_08.txt\" : 3,\n",
    "}\n",
    "\n",
    "k = 3"
   ]
  },
  {
   "cell_type": "code",
   "execution_count": 9,
   "metadata": {
    "collapsed": false
   },
   "outputs": [
    {
     "name": "stdout",
     "output_type": "stream",
     "text": [
      "[['B2_02.txt' 'B2_01.txt' 'B2_04.txt']]\n",
      "[['B2_02.txt' 'B2_01.txt' 'C1_10.txt']]\n"
     ]
    }
   ],
   "source": [
    "for ur in [user_ratings_1, user_ratings_2]:\n",
    "    print recommend_k_articles(article_dict, ur, initial_user, k)"
   ]
  },
  {
   "cell_type": "code",
   "execution_count": null,
   "metadata": {
    "collapsed": false
   },
   "outputs": [],
   "source": []
  },
  {
   "cell_type": "code",
   "execution_count": null,
   "metadata": {
    "collapsed": true
   },
   "outputs": [],
   "source": []
  }
 ],
 "metadata": {
  "kernelspec": {
   "display_name": "Python 2",
   "language": "python",
   "name": "python2"
  },
  "language_info": {
   "codemirror_mode": {
    "name": "ipython",
    "version": 2
   },
   "file_extension": ".py",
   "mimetype": "text/x-python",
   "name": "python",
   "nbconvert_exporter": "python",
   "pygments_lexer": "ipython2",
   "version": "2.7.6"
  }
 },
 "nbformat": 4,
 "nbformat_minor": 0
}
