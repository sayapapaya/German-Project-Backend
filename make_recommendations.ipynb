{
 "cells": [
  {
   "cell_type": "code",
   "execution_count": 1,
   "metadata": {
    "collapsed": false
   },
   "outputs": [],
   "source": [
    "import copy\n",
    "import os\n",
    "import numpy as np\n",
    "import matplotlib.pyplot as plt\n",
    "import scipy\n",
    "\n",
    "import user_model\n",
    "import recommendation_model\n",
    "import article_model\n",
    "\n",
    "from sklearn.neighbors import KNeighborsClassifier"
   ]
  },
  {
   "cell_type": "code",
   "execution_count": 2,
   "metadata": {
    "collapsed": false
   },
   "outputs": [],
   "source": [
    "# read articles\n",
    "article_directory = \"goethe_articles\"\n",
    "article_names = [name for name in os.listdir(article_directory) if \\\n",
    "        name.endswith(\".txt\")]\n",
    "\n",
    "article_dict = article_model.create_feature_vector_dict(\n",
    "    article_directory, article_names, article_model.create_feature_vector)"
   ]
  },
  {
   "cell_type": "code",
   "execution_count": 3,
   "metadata": {
    "collapsed": false
   },
   "outputs": [],
   "source": [
    "# expect recommendation of only difficult articles\n",
    "user_ratings_1 = {\n",
    "    \"A1_01.txt\" : 1,\n",
    "    \"A1_02.txt\" : 1,\n",
    "    \"B1_01.txt\" : 1,\n",
    "    \"B1_02.txt\" : 1,    \n",
    "    \"C2_01.txt\" : 1,\n",
    "    \"C2_02.txt\" : 1,\n",
    "}\n",
    "\n",
    "# expect recommendation of only basic articles\n",
    "user_ratings_2 = {\n",
    "    \"A1_01.txt\" : 5,\n",
    "    \"A1_02.txt\" : 5,\n",
    "    \"B1_01.txt\" : 5,\n",
    "    \"B1_02.txt\" : 5,    \n",
    "    \"C1_01.txt\" : 5,\n",
    "    \"C2_02.txt\" : 5,\n",
    "}\n",
    "\n",
    "# expect recommendation in between\n",
    "user_ratings_3 = {\n",
    "    \"A1_01.txt\": 1,\n",
    "    \"A1_02.txt\": 1,\n",
    "    \"A1_03.txt\": 1,\n",
    "    \"C2_01.txt\": 5,\n",
    "    \"C2_02.txt\": 5,\n",
    "    \"C2_03.txt\": 5,    \n",
    "}\n",
    "\n",
    "user_ratings_mixed = {\n",
    "    \"A1_01.txt\": 1,\n",
    "    \"A1_02.txt\": 1,\n",
    "    \"A1_03.txt\": 1,\n",
    "    \"B1_01.txt\": 2,\n",
    "    \"B1_02.txt\": 2,\n",
    "    \"B1_03.txt\": 2,\n",
    "    \"C2_01.txt\": 3,\n",
    "    \"C2_02.txt\": 3,\n",
    "    \"C2_03.txt\": 3,   \n",
    "}\n"
   ]
  },
  {
   "cell_type": "code",
   "execution_count": null,
   "metadata": {
    "collapsed": true
   },
   "outputs": [],
   "source": []
  },
  {
   "cell_type": "code",
   "execution_count": 4,
   "metadata": {
    "collapsed": false
   },
   "outputs": [
    {
     "name": "stdout",
     "output_type": "stream",
     "text": [
      "[ 0.31534344  0.35844028  0.28265234  0.33296624]\n"
     ]
    }
   ],
   "source": [
    "# initialize user\n",
    "import user_model\n",
    "user = user_model.UserRep(article_dict)\n",
    "print user.feature_vector"
   ]
  },
  {
   "cell_type": "code",
   "execution_count": 5,
   "metadata": {
    "collapsed": false
   },
   "outputs": [
    {
     "name": "stdout",
     "output_type": "stream",
     "text": [
      "{'C2_01.txt': 3, 'B1_01.txt': 2, 'A1_01.txt': 1, 'C2_03.txt': 3, 'B1_02.txt': 2, 'B1_03.txt': 2, 'A1_03.txt': 1, 'A1_02.txt': 1, 'C2_02.txt': 3}\n"
     ]
    }
   ],
   "source": [
    "user.update_user(user_ratings_mixed)\n",
    "print user.get_read_articles()"
   ]
  },
  {
   "cell_type": "code",
   "execution_count": 6,
   "metadata": {
    "collapsed": false
   },
   "outputs": [],
   "source": [
    "k = 2\n",
    "classified = recommendation_model.classify_articles_based_on_read_articles(article_dict, user.get_read_articles(), k)\n"
   ]
  },
  {
   "cell_type": "code",
   "execution_count": null,
   "metadata": {
    "collapsed": false
   },
   "outputs": [],
   "source": []
  },
  {
   "cell_type": "code",
   "execution_count": 7,
   "metadata": {
    "collapsed": false
   },
   "outputs": [
    {
     "name": "stdout",
     "output_type": "stream",
     "text": [
      "A1_01.txt [1]\n",
      "A1_02.txt [1]\n",
      "A1_03.txt [1]\n",
      "A1_04.txt [1]\n",
      "A1_05.txt [1]\n",
      "A2_01.txt [2]\n",
      "A2_02.txt [1]\n",
      "A2_03.txt [1]\n",
      "A2_04.txt [1]\n",
      "A2_05.txt [2]\n",
      "B1_01.txt [2]\n",
      "B1_02.txt [2]\n",
      "B1_03.txt [2]\n",
      "B1_04.txt [1]\n",
      "B1_05.txt [2]\n",
      "B1_06.txt [2]\n",
      "B2_01.txt [3]\n",
      "B2_02.txt [3]\n",
      "B2_03.txt [3]\n",
      "B2_04.txt [3]\n",
      "C1_01.txt [3]\n",
      "C1_02.txt [1]\n",
      "C1_03.txt [2]\n",
      "C1_04.txt [2]\n",
      "C1_05.txt [2]\n",
      "C1_06.txt [2]\n",
      "C1_07.txt [2]\n",
      "C1_08.txt [2]\n",
      "C1_09.txt [2]\n",
      "C1_10.txt [3]\n",
      "C2_01.txt [3]\n",
      "C2_02.txt [3]\n",
      "C2_03.txt [3]\n",
      "C2_04.txt [3]\n",
      "C2_05.txt [3]\n",
      "C2_06.txt [3]\n",
      "C2_07.txt [3]\n",
      "C2_08.txt [3]\n"
     ]
    }
   ],
   "source": [
    "for k in sorted(classified):\n",
    "    print k, classified[k]\n",
    "    "
   ]
  },
  {
   "cell_type": "code",
   "execution_count": null,
   "metadata": {
    "collapsed": false
   },
   "outputs": [],
   "source": []
  },
  {
   "cell_type": "code",
   "execution_count": 12,
   "metadata": {
    "collapsed": false
   },
   "outputs": [],
   "source": [
    "# articles = article_dict.values()\n",
    "# x = np.array([a[0] for a in articles])\n",
    "# y = np.array([a[1] for a in articles])\n",
    "\n",
    "# slope, intercept, r_value, p_value, std_err = scipy.stats.linregress(x,y)\n",
    "# title = \"r-squared: \" + str(r_value**2)\n",
    "\n",
    "# fig = plt.figure()\n",
    "# ax = fig.add_subplot(1,1,1)\n",
    "# ax.scatter(x, y)\n",
    "# ax.set_title(title)\n",
    "# # ax.set_xlabel(xlabel)\n",
    "# # ax.set_ylabel(ylabel)\n",
    "# plt.show()"
   ]
  },
  {
   "cell_type": "code",
   "execution_count": null,
   "metadata": {
    "collapsed": true
   },
   "outputs": [],
   "source": []
  }
 ],
 "metadata": {
  "kernelspec": {
   "display_name": "Python 2",
   "language": "python",
   "name": "python2"
  },
  "language_info": {
   "codemirror_mode": {
    "name": "ipython",
    "version": 2
   },
   "file_extension": ".py",
   "mimetype": "text/x-python",
   "name": "python",
   "nbconvert_exporter": "python",
   "pygments_lexer": "ipython2",
   "version": "2.7.6"
  }
 },
 "nbformat": 4,
 "nbformat_minor": 0
}
