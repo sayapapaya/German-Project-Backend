{
 "cells": [
  {
   "cell_type": "code",
   "execution_count": 1,
   "metadata": {
    "collapsed": false
   },
   "outputs": [],
   "source": [
    "import copy\n",
    "import os\n",
    "import numpy as np\n",
    "\n",
    "import user_model\n",
    "import recommendation_model\n",
    "import article_model"
   ]
  },
  {
   "cell_type": "code",
   "execution_count": 2,
   "metadata": {
    "collapsed": false
   },
   "outputs": [],
   "source": [
    "# read articles\n",
    "article_directory = \"goethe_articles\"\n",
    "article_names = [name for name in os.listdir(article_directory) if \\\n",
    "        name.endswith(\".txt\")]\n",
    "\n",
    "article_dict = article_model.create_feature_vector_dict(\n",
    "    article_directory, article_names, article_model.create_feature_vector)"
   ]
  },
  {
   "cell_type": "code",
   "execution_count": 3,
   "metadata": {
    "collapsed": false
   },
   "outputs": [
    {
     "name": "stdout",
     "output_type": "stream",
     "text": [
      "[ 34.60526316  16.07653482   5.5400905    0.16648312]\n"
     ]
    }
   ],
   "source": [
    "# initialize user\n",
    "user = user_model.UserRep(article_dict)\n",
    "print user.feature_vector"
   ]
  },
  {
   "cell_type": "code",
   "execution_count": 4,
   "metadata": {
    "collapsed": false
   },
   "outputs": [],
   "source": [
    "# expect recommendation of only difficult articles\n",
    "user_ratings_1 = {\n",
    "    \"A1_01.txt\" : 1,\n",
    "    \"A1_02.txt\" : 1,\n",
    "    \"B1_01.txt\" : 1,\n",
    "    \"B1_02.txt\" : 1,    \n",
    "    \"C2_01.txt\" : 1,\n",
    "    \"C2_02.txt\" : 1,\n",
    "}\n",
    "\n",
    "# expect recommendation of only basic articles\n",
    "user_ratings_2 = {\n",
    "    \"A1_01.txt\" : 5,\n",
    "    \"A1_02.txt\" : 5,\n",
    "    \"B1_01.txt\" : 5,\n",
    "    \"B1_02.txt\" : 5,    \n",
    "    \"C1_01.txt\" : 5,\n",
    "    \"C2_02.txt\" : 5,\n",
    "}\n",
    "\n",
    "# expect recommendation in between\n",
    "user_ratings_3 = {\n",
    "    \"A1_01.txt\": 1,\n",
    "    \"A1_02.txt\": 1,\n",
    "    \"A1_03.txt\": 1,\n",
    "    \"C2_01.txt\": 5,\n",
    "    \"C2_02.txt\": 5,\n",
    "    \"C2_03.txt\": 5,    \n",
    "}"
   ]
  },
  {
   "cell_type": "code",
   "execution_count": 5,
   "metadata": {
    "collapsed": false
   },
   "outputs": [],
   "source": [
    "user.update_user(user_ratings_1)"
   ]
  },
  {
   "cell_type": "code",
   "execution_count": 6,
   "metadata": {
    "collapsed": false
   },
   "outputs": [
    {
     "name": "stdout",
     "output_type": "stream",
     "text": [
      "[['C2_06.txt' 'C2_07.txt' 'B2_03.txt']]\n"
     ]
    }
   ],
   "source": [
    "k = 3\n",
    "print recommendation_model.recommend_k_articles(\n",
    "    article_dict, user, k, recommendation_model.find_k_nearest_articles)"
   ]
  },
  {
   "cell_type": "code",
   "execution_count": null,
   "metadata": {
    "collapsed": false
   },
   "outputs": [],
   "source": []
  },
  {
   "cell_type": "code",
   "execution_count": null,
   "metadata": {
    "collapsed": false
   },
   "outputs": [],
   "source": []
  },
  {
   "cell_type": "code",
   "execution_count": null,
   "metadata": {
    "collapsed": true
   },
   "outputs": [],
   "source": []
  }
 ],
 "metadata": {
  "kernelspec": {
   "display_name": "Python 2",
   "language": "python",
   "name": "python2"
  },
  "language_info": {
   "codemirror_mode": {
    "name": "ipython",
    "version": 2
   },
   "file_extension": ".py",
   "mimetype": "text/x-python",
   "name": "python",
   "nbconvert_exporter": "python",
   "pygments_lexer": "ipython2",
   "version": "2.7.6"
  }
 },
 "nbformat": 4,
 "nbformat_minor": 0
}
