{
 "cells": [
  {
   "cell_type": "code",
   "execution_count": 1,
   "metadata": {
    "collapsed": false
   },
   "outputs": [],
   "source": [
    "import copy\n",
    "import os\n",
    "import numpy as np\n",
    "import matplotlib.pyplot as plt\n",
    "import scipy\n",
    "\n",
    "import user_model\n",
    "import recommendation_model\n",
    "import article_model\n",
    "\n",
    "from sklearn.neighbors import KNeighborsClassifier"
   ]
  },
  {
   "cell_type": "code",
   "execution_count": 2,
   "metadata": {
    "collapsed": false
   },
   "outputs": [],
   "source": [
    "# read articles\n",
    "article_directory = \"goethe_articles\"\n",
    "article_names = [name for name in os.listdir(article_directory) if \\\n",
    "        name.endswith(\".txt\")]\n",
    "\n",
    "article_dict = article_model.create_feature_vector_dict(\n",
    "    article_directory, article_names, article_model.create_feature_vector)"
   ]
  },
  {
   "cell_type": "code",
   "execution_count": 3,
   "metadata": {
    "collapsed": false
   },
   "outputs": [],
   "source": [
    "# expect recommendation of only difficult articles\n",
    "user_ratings_1 = {\n",
    "    \"A1_01.txt\" : 1,\n",
    "    \"A1_02.txt\" : 1,\n",
    "    \"B1_01.txt\" : 1,\n",
    "    \"B1_02.txt\" : 1,    \n",
    "    \"C2_01.txt\" : 1,\n",
    "    \"C2_02.txt\" : 1,\n",
    "}\n",
    "\n",
    "# expect recommendation of only basic articles\n",
    "user_ratings_2 = {\n",
    "    \"A1_01.txt\" : 5,\n",
    "    \"A1_02.txt\" : 5,\n",
    "    \"B1_01.txt\" : 5,\n",
    "    \"B1_02.txt\" : 5,    \n",
    "    \"C1_01.txt\" : 5,\n",
    "    \"C2_02.txt\" : 5,\n",
    "}\n",
    "\n",
    "# expect recommendation in between\n",
    "user_ratings_3 = {\n",
    "    \"A1_01.txt\": 1,\n",
    "    \"A1_02.txt\": 1,\n",
    "    \"A1_03.txt\": 1,\n",
    "    \"C2_01.txt\": 5,\n",
    "    \"C2_02.txt\": 5,\n",
    "    \"C2_03.txt\": 5,    \n",
    "}\n",
    "\n",
    "user_ratings_mixed = {\n",
    "    \"A1_01.txt\": 1,\n",
    "    \"A1_02.txt\": 1,\n",
    "    \"A1_03.txt\": 1,\n",
    "    \"B1_01.txt\": 2,\n",
    "    \"B1_02.txt\": 2,\n",
    "    \"B1_03.txt\": 2,\n",
    "    \"C2_01.txt\": 3,\n",
    "    \"C2_02.txt\": 3,\n",
    "    \"C2_03.txt\": 3,   \n",
    "}\n"
   ]
  },
  {
   "cell_type": "code",
   "execution_count": null,
   "metadata": {
    "collapsed": true
   },
   "outputs": [],
   "source": []
  },
  {
   "cell_type": "code",
   "execution_count": 4,
   "metadata": {
    "collapsed": false
   },
   "outputs": [],
   "source": [
    "# initialize user\n",
    "user = user_model.UserRep(article_dict)\n",
    "user.update_user(user_ratings_mixed)\n",
    "k = 2\n",
    "classified = recommendation_model.knn_classification_based_on_read_articles(article_dict, user.get_read_articles(), k)"
   ]
  },
  {
   "cell_type": "code",
   "execution_count": 5,
   "metadata": {
    "collapsed": false
   },
   "outputs": [],
   "source": [
    "fig = plt.figure()\n",
    "ax = fig.add_subplot(111)\n",
    "\n",
    "read_article_dict = user.get_read_articles()\n",
    "read_article_names = read_article_dict.keys()\n",
    "read_article_fvs = np.array([article_dict[n] for n in read_article_names])\n",
    "read_article_xs = np.array([fv[1] for fv in read_article_fvs])\n",
    "read_article_ys = np.array([fv[2] for fv in read_article_fvs])"
   ]
  },
  {
   "cell_type": "code",
   "execution_count": 6,
   "metadata": {
    "collapsed": false
   },
   "outputs": [],
   "source": [
    "article_names = article_dict.keys()\n",
    "articles = np.array([article_dict[n] for n in article_names])\n",
    "xs = np.array([a[1] for a in articles])\n",
    "ys = np.array([a[2] for a in articles])\n",
    "\n",
    "labels = np.array([name[0:2] for name in article_names])\n",
    "color = {\n",
    "    \"unread\": \"black\",\n",
    "    1: 'red',\n",
    "    2: 'blue',\n",
    "    3: 'green'\n",
    "}\n",
    "\n",
    "colors = np.array([color[read_article_dict.get(n, \"unread\")] for n in article_names])\n",
    "\n",
    "ax.scatter(xs, ys, color=colors)\n",
    "for label, x, y in zip(labels, xs, ys):\n",
    "    ax.annotate(label, xy=(x,y))\n",
    "\n",
    "ax.set_xlabel(\"average sentence length\")\n",
    "ax.set_ylabel(\"average word length\")\n",
    "    \n",
    "plt.show()"
   ]
  },
  {
   "cell_type": "code",
   "execution_count": 7,
   "metadata": {
    "collapsed": false
   },
   "outputs": [],
   "source": [
    "fig = plt.figure()\n",
    "ax = fig.add_subplot(111)\n",
    "colors = np.array([color[classified[name]] for name in article_names])\n",
    "ax.scatter(xs, ys, color=colors)\n",
    "\n",
    "for label, x, y in zip(labels, xs, ys):\n",
    "    ax.annotate(label, xy=(x,y))\n",
    "\n",
    "ax.set_xlabel(\"average sentence length\")\n",
    "ax.set_ylabel(\"average word length\")\n",
    "    \n",
    "plt.show()"
   ]
  },
  {
   "cell_type": "code",
   "execution_count": null,
   "metadata": {
    "collapsed": true
   },
   "outputs": [],
   "source": []
  }
 ],
 "metadata": {
  "kernelspec": {
   "display_name": "Python 2",
   "language": "python",
   "name": "python2"
  },
  "language_info": {
   "codemirror_mode": {
    "name": "ipython",
    "version": 2
   },
   "file_extension": ".py",
   "mimetype": "text/x-python",
   "name": "python",
   "nbconvert_exporter": "python",
   "pygments_lexer": "ipython2",
   "version": "2.7.6"
  }
 },
 "nbformat": 4,
 "nbformat_minor": 0
}
