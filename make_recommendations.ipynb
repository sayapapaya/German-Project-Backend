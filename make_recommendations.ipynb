{
 "cells": [
  {
   "cell_type": "code",
   "execution_count": 1,
   "metadata": {
    "collapsed": true
   },
   "outputs": [],
   "source": [
    "import copy\n",
    "import os\n",
    "import numpy as np\n",
    "\n",
    "import user_model\n",
    "import recommendation_model\n",
    "\n"
   ]
  },
  {
   "cell_type": "code",
   "execution_count": 2,
   "metadata": {
    "collapsed": false
   },
   "outputs": [],
   "source": [
    "article_directory = \"goethe_articles\"\n",
    "article_names = [name for name in os.listdir(article_directory) if \\\n",
    "        name.endswith(\".txt\")]\n",
    "\n",
    "article_dict = recommendation_model.create_feature_vector_dict(\n",
    "    article_directory, article_names)"
   ]
  },
  {
   "cell_type": "code",
   "execution_count": 3,
   "metadata": {
    "collapsed": false
   },
   "outputs": [
    {
     "name": "stdout",
     "output_type": "stream",
     "text": [
      "[ 34.60526316  16.07653482   5.5400905    0.16648312]\n"
     ]
    }
   ],
   "source": [
    "# initialize user at centroid\n",
    "article_list = np.array([x for x in article_dict.values()])\n",
    "initial_user = user_model.get_centroid(article_list)\n",
    "print initial_user"
   ]
  },
  {
   "cell_type": "code",
   "execution_count": 4,
   "metadata": {
    "collapsed": true
   },
   "outputs": [],
   "source": [
    "def recommend_k_articles(article_dict, user_ratings, user_rep_before_update, k):\n",
    "    updated_user = user_model.update_user_given_many_articles(user_ratings, article_dict, user_rep_before_update)\n",
    "    print 'up_user: ', updated_user\n",
    "    unread_articles_dict = {k:v for k,v in article_dict.items() if k not in user_ratings.keys()}\n",
    "    unread_article_names = np.array(unread_articles_dict.keys())\n",
    "    unread_articles = np.array([unread_articles_dict[article_name] for article_name in unread_article_names])\n",
    "\n",
    "    recommendation = recommendation_model.find_k_nearest_articles(unread_article_names, \n",
    "                                                               unread_articles, \n",
    "                                                               updated_user, \n",
    "                                                               k)\n",
    "    return recommendation\n",
    "  "
   ]
  },
  {
   "cell_type": "code",
   "execution_count": 5,
   "metadata": {
    "collapsed": false
   },
   "outputs": [],
   "source": [
    "# expect recommendation of only difficult articles\n",
    "user_ratings_1 = {\n",
    "    \"A1_01.txt\" : 1,\n",
    "    \"A1_02.txt\" : 1,\n",
    "    \"B1_01.txt\" : 1,\n",
    "    \"B1_02.txt\" : 1,    \n",
    "    \"C2_01.txt\" : 1,\n",
    "    \"C2_02.txt\" : 1,\n",
    "}\n",
    "\n",
    "# expect recommendation of only basic articles\n",
    "user_ratings_2 = {\n",
    "    \"A1_01.txt\" : 5,\n",
    "    \"A1_02.txt\" : 5,\n",
    "    \"B1_01.txt\" : 5,\n",
    "    \"B1_02.txt\" : 5,    \n",
    "    \"C1_01.txt\" : 5,\n",
    "    \"C2_02.txt\" : 5,\n",
    "}\n",
    "\n",
    "# expect recommendation in between\n",
    "user_ratings_3 = {\n",
    "    \"A1_01.txt\": 1,\n",
    "    \"A1_02.txt\": 1,\n",
    "    \"A1_03.txt\": 1,\n",
    "    \"C2_01.txt\": 5,\n",
    "    \"C2_02.txt\": 5,\n",
    "    \"C2_03.txt\": 5,    \n",
    "}\n",
    "    \n",
    "k = 3"
   ]
  },
  {
   "cell_type": "code",
   "execution_count": 6,
   "metadata": {
    "collapsed": false
   },
   "outputs": [
    {
     "name": "stdout",
     "output_type": "stream",
     "text": [
      "[ 34.60526316  16.07653482   5.5400905    0.16648312]\n",
      "\n",
      "up_user:  [ 34.60526316  16.07653482   5.5400905    0.17785639]\n",
      "recommendations:\n",
      "C1_04.txt [ 35.          16.15384615   4.70952381   0.30769231]\n",
      "C1_07.txt [ 34.          18.18181818   4.895        0.45454545]\n",
      "C1_08.txt [ 33.          14.28571429   5.665        0.35714286]\n",
      "\n",
      "up_user:  [ 32.45        14.03387769   5.4639078    0.16648312]\n",
      "recommendations:\n",
      "C1_08.txt [ 33.          14.28571429   5.665        0.35714286]\n",
      "C1_03.txt [ 32.      15.625    4.78     0.3125]\n",
      "B2_01.txt [ 31.          16.125        6.12919897   0.16666667]\n",
      "\n",
      "up_user:  [ 32.45        14.03387769   5.4639078    0.16648312]\n",
      "recommendations:\n",
      "C1_08.txt [ 33.          14.28571429   5.665        0.35714286]\n",
      "C1_03.txt [ 32.      15.625    4.78     0.3125]\n",
      "B2_01.txt [ 31.          16.125        6.12919897   0.16666667]\n"
     ]
    }
   ],
   "source": [
    "print initial_user\n",
    "for ur in [user_ratings_1, user_ratings_2, user_ratings_3]:\n",
    "    print ''\n",
    "    recommendation = recommend_k_articles(article_dict, ur, initial_user, k)\n",
    "    print 'recommendations:'\n",
    "    for article in recommendation[0]:\n",
    "        print article, article_dict[article]\n",
    "        "
   ]
  },
  {
   "cell_type": "code",
   "execution_count": 7,
   "metadata": {
    "collapsed": false
   },
   "outputs": [
    {
     "name": "stdout",
     "output_type": "stream",
     "text": [
      "feature vectors used:\n",
      "extract_features.get_length_of_longest_sentence(blob), \n",
      " extract_features.get_avg_sentence_length(blob), \n",
      " extract_features.get_avg_word_length(blob),\n",
      " extract_features.proportion_of_sentences_that contain_past_participle(blob)\n"
     ]
    }
   ],
   "source": [
    "print 'feature vectors used:'\n",
    "print \"extract_features.get_length_of_longest_sentence(blob), \\n \\\n",
    "extract_features.get_avg_sentence_length(blob), \\n \\\n",
    "extract_features.get_avg_word_length(blob),\\n \\\n",
    "extract_features.proportion_of_sentences_that contain_past_participle(blob)\" \\"
   ]
  },
  {
   "cell_type": "code",
   "execution_count": null,
   "metadata": {
    "collapsed": false
   },
   "outputs": [],
   "source": []
  },
  {
   "cell_type": "code",
   "execution_count": null,
   "metadata": {
    "collapsed": true
   },
   "outputs": [],
   "source": []
  }
 ],
 "metadata": {
  "kernelspec": {
   "display_name": "Python 2",
   "language": "python",
   "name": "python2"
  },
  "language_info": {
   "codemirror_mode": {
    "name": "ipython",
    "version": 2
   },
   "file_extension": ".py",
   "mimetype": "text/x-python",
   "name": "python",
   "nbconvert_exporter": "python",
   "pygments_lexer": "ipython2",
   "version": "2.7.6"
  }
 },
 "nbformat": 4,
 "nbformat_minor": 0
}
